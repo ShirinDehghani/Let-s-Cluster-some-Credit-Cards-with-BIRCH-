{
  "nbformat": 4,
  "nbformat_minor": 0,
  "metadata": {
    "accelerator": "GPU",
    "colab": {
      "name": "birch.ipynb",
      "provenance": [],
      "collapsed_sections": []
    },
    "interpreter": {
      "hash": "31f2aee4e71d21fbe5cf8b01ff0e069b9275f58929596ceb00d14d90e3e16cd6"
    },
    "kernelspec": {
      "display_name": "Python 3.8.10 64-bit",
      "name": "python3"
    },
    "language_info": {
      "codemirror_mode": {
        "name": "ipython",
        "version": 3
      },
      "file_extension": ".py",
      "mimetype": "text/x-python",
      "name": "python",
      "nbconvert_exporter": "python",
      "pygments_lexer": "ipython3",
      "version": "3.8.10"
    }
  },
  "cells": [
    {
      "cell_type": "markdown",
      "metadata": {
        "id": "amNKCrPN4hnx"
      },
      "source": [
        "# Birch clustering on Credit card dataset"
      ]
    },
    {
      "cell_type": "markdown",
      "metadata": {
        "id": "QH_W2fvR4trQ"
      },
      "source": [
        "Libraries : "
      ]
    },
    {
      "cell_type": "code",
      "metadata": {
        "id": "_V3TyG-N8moY"
      },
      "source": [
        "# Birch for Clustering\n",
        "from sklearn.cluster import Birch\n",
        "\n",
        "# Essentials:\n",
        "import numpy as np\n",
        "import pandas as pd\n",
        "import matplotlib.pyplot as plt\n",
        "import seaborn as sns\n",
        "import matplotlib.cm as cm\n",
        "\n",
        "#ignore warnings\n",
        "import warnings\n",
        "warnings.filterwarnings('ignore')\n",
        "\n",
        "# t-SNE visualization\n",
        "from sklearn.manifold import TSNE\n",
        "\n",
        "# imputation\n",
        "from sklearn.impute import KNNImputer\n",
        "\n",
        "# Scaling\n",
        "from sklearn.preprocessing import StandardScaler\n",
        "\n",
        "# PCA\n",
        "from sklearn.decomposition import PCA\n",
        "\n",
        "# K-means for Clustering\n",
        "from sklearn.cluster import KMeans\n",
        "\n",
        "# elbow method\n",
        "from yellowbrick.cluster import KElbowVisualizer\n",
        "\n",
        "# cluster metrics\n",
        "from sklearn.metrics import davies_bouldin_score\n",
        "from sklearn.metrics import silhouette_score\n",
        "\n",
        "# Silhouette Visualizer\n",
        "from yellowbrick.cluster import SilhouetteVisualizer\n",
        "from sklearn.metrics import silhouette_samples, silhouette_score"
      ],
      "execution_count": 1,
      "outputs": []
    },
    {
      "cell_type": "markdown",
      "metadata": {
        "id": "LdGNz-RH46vg"
      },
      "source": [
        "Take a look at dataset : "
      ]
    },
    {
      "cell_type": "code",
      "metadata": {
        "colab": {
          "base_uri": "https://localhost:8080/",
          "height": 226
        },
        "id": "X2So6nW54y3U",
        "outputId": "0ff46e88-dc3a-40e8-f94a-2e2bc0c1e10d"
      },
      "source": [
        "cc_general = pd.read_csv('/content/CC_GENERAL.csv')\n",
        "cc_general.head()"
      ],
      "execution_count": 2,
      "outputs": [
        {
          "output_type": "execute_result",
          "data": {
            "text/html": [
              "<div>\n",
              "<style scoped>\n",
              "    .dataframe tbody tr th:only-of-type {\n",
              "        vertical-align: middle;\n",
              "    }\n",
              "\n",
              "    .dataframe tbody tr th {\n",
              "        vertical-align: top;\n",
              "    }\n",
              "\n",
              "    .dataframe thead th {\n",
              "        text-align: right;\n",
              "    }\n",
              "</style>\n",
              "<table border=\"1\" class=\"dataframe\">\n",
              "  <thead>\n",
              "    <tr style=\"text-align: right;\">\n",
              "      <th></th>\n",
              "      <th>CUST_ID</th>\n",
              "      <th>BALANCE</th>\n",
              "      <th>BALANCE_FREQUENCY</th>\n",
              "      <th>PURCHASES</th>\n",
              "      <th>ONEOFF_PURCHASES</th>\n",
              "      <th>INSTALLMENTS_PURCHASES</th>\n",
              "      <th>CASH_ADVANCE</th>\n",
              "      <th>PURCHASES_FREQUENCY</th>\n",
              "      <th>ONEOFF_PURCHASES_FREQUENCY</th>\n",
              "      <th>PURCHASES_INSTALLMENTS_FREQUENCY</th>\n",
              "      <th>CASH_ADVANCE_FREQUENCY</th>\n",
              "      <th>CASH_ADVANCE_TRX</th>\n",
              "      <th>PURCHASES_TRX</th>\n",
              "      <th>CREDIT_LIMIT</th>\n",
              "      <th>PAYMENTS</th>\n",
              "      <th>MINIMUM_PAYMENTS</th>\n",
              "      <th>PRC_FULL_PAYMENT</th>\n",
              "      <th>TENURE</th>\n",
              "    </tr>\n",
              "  </thead>\n",
              "  <tbody>\n",
              "    <tr>\n",
              "      <th>0</th>\n",
              "      <td>C10001</td>\n",
              "      <td>40.900749</td>\n",
              "      <td>0.818182</td>\n",
              "      <td>95.40</td>\n",
              "      <td>0.00</td>\n",
              "      <td>95.4</td>\n",
              "      <td>0.000000</td>\n",
              "      <td>0.166667</td>\n",
              "      <td>0.000000</td>\n",
              "      <td>0.083333</td>\n",
              "      <td>0.000000</td>\n",
              "      <td>0</td>\n",
              "      <td>2</td>\n",
              "      <td>1000.0</td>\n",
              "      <td>201.802084</td>\n",
              "      <td>139.509787</td>\n",
              "      <td>0.000000</td>\n",
              "      <td>12</td>\n",
              "    </tr>\n",
              "    <tr>\n",
              "      <th>1</th>\n",
              "      <td>C10002</td>\n",
              "      <td>3202.467416</td>\n",
              "      <td>0.909091</td>\n",
              "      <td>0.00</td>\n",
              "      <td>0.00</td>\n",
              "      <td>0.0</td>\n",
              "      <td>6442.945483</td>\n",
              "      <td>0.000000</td>\n",
              "      <td>0.000000</td>\n",
              "      <td>0.000000</td>\n",
              "      <td>0.250000</td>\n",
              "      <td>4</td>\n",
              "      <td>0</td>\n",
              "      <td>7000.0</td>\n",
              "      <td>4103.032597</td>\n",
              "      <td>1072.340217</td>\n",
              "      <td>0.222222</td>\n",
              "      <td>12</td>\n",
              "    </tr>\n",
              "    <tr>\n",
              "      <th>2</th>\n",
              "      <td>C10003</td>\n",
              "      <td>2495.148862</td>\n",
              "      <td>1.000000</td>\n",
              "      <td>773.17</td>\n",
              "      <td>773.17</td>\n",
              "      <td>0.0</td>\n",
              "      <td>0.000000</td>\n",
              "      <td>1.000000</td>\n",
              "      <td>1.000000</td>\n",
              "      <td>0.000000</td>\n",
              "      <td>0.000000</td>\n",
              "      <td>0</td>\n",
              "      <td>12</td>\n",
              "      <td>7500.0</td>\n",
              "      <td>622.066742</td>\n",
              "      <td>627.284787</td>\n",
              "      <td>0.000000</td>\n",
              "      <td>12</td>\n",
              "    </tr>\n",
              "    <tr>\n",
              "      <th>3</th>\n",
              "      <td>C10004</td>\n",
              "      <td>1666.670542</td>\n",
              "      <td>0.636364</td>\n",
              "      <td>1499.00</td>\n",
              "      <td>1499.00</td>\n",
              "      <td>0.0</td>\n",
              "      <td>205.788017</td>\n",
              "      <td>0.083333</td>\n",
              "      <td>0.083333</td>\n",
              "      <td>0.000000</td>\n",
              "      <td>0.083333</td>\n",
              "      <td>1</td>\n",
              "      <td>1</td>\n",
              "      <td>7500.0</td>\n",
              "      <td>0.000000</td>\n",
              "      <td>NaN</td>\n",
              "      <td>0.000000</td>\n",
              "      <td>12</td>\n",
              "    </tr>\n",
              "    <tr>\n",
              "      <th>4</th>\n",
              "      <td>C10005</td>\n",
              "      <td>817.714335</td>\n",
              "      <td>1.000000</td>\n",
              "      <td>16.00</td>\n",
              "      <td>16.00</td>\n",
              "      <td>0.0</td>\n",
              "      <td>0.000000</td>\n",
              "      <td>0.083333</td>\n",
              "      <td>0.083333</td>\n",
              "      <td>0.000000</td>\n",
              "      <td>0.000000</td>\n",
              "      <td>0</td>\n",
              "      <td>1</td>\n",
              "      <td>1200.0</td>\n",
              "      <td>678.334763</td>\n",
              "      <td>244.791237</td>\n",
              "      <td>0.000000</td>\n",
              "      <td>12</td>\n",
              "    </tr>\n",
              "  </tbody>\n",
              "</table>\n",
              "</div>"
            ],
            "text/plain": [
              "  CUST_ID      BALANCE  ...  PRC_FULL_PAYMENT  TENURE\n",
              "0  C10001    40.900749  ...          0.000000      12\n",
              "1  C10002  3202.467416  ...          0.222222      12\n",
              "2  C10003  2495.148862  ...          0.000000      12\n",
              "3  C10004  1666.670542  ...          0.000000      12\n",
              "4  C10005   817.714335  ...          0.000000      12\n",
              "\n",
              "[5 rows x 18 columns]"
            ]
          },
          "metadata": {},
          "execution_count": 2
        }
      ]
    },
    {
      "cell_type": "markdown",
      "metadata": {
        "id": "v3XO_uDa5HgQ"
      },
      "source": [
        "Understand the features : "
      ]
    },
    {
      "cell_type": "code",
      "metadata": {
        "colab": {
          "base_uri": "https://localhost:8080/",
          "height": 320
        },
        "id": "9dX2WANm5C_L",
        "outputId": "cc5e2f0f-7431-49bc-c1be-d779aac6480c"
      },
      "source": [
        "cc_general.describe()"
      ],
      "execution_count": 3,
      "outputs": [
        {
          "output_type": "execute_result",
          "data": {
            "text/html": [
              "<div>\n",
              "<style scoped>\n",
              "    .dataframe tbody tr th:only-of-type {\n",
              "        vertical-align: middle;\n",
              "    }\n",
              "\n",
              "    .dataframe tbody tr th {\n",
              "        vertical-align: top;\n",
              "    }\n",
              "\n",
              "    .dataframe thead th {\n",
              "        text-align: right;\n",
              "    }\n",
              "</style>\n",
              "<table border=\"1\" class=\"dataframe\">\n",
              "  <thead>\n",
              "    <tr style=\"text-align: right;\">\n",
              "      <th></th>\n",
              "      <th>BALANCE</th>\n",
              "      <th>BALANCE_FREQUENCY</th>\n",
              "      <th>PURCHASES</th>\n",
              "      <th>ONEOFF_PURCHASES</th>\n",
              "      <th>INSTALLMENTS_PURCHASES</th>\n",
              "      <th>CASH_ADVANCE</th>\n",
              "      <th>PURCHASES_FREQUENCY</th>\n",
              "      <th>ONEOFF_PURCHASES_FREQUENCY</th>\n",
              "      <th>PURCHASES_INSTALLMENTS_FREQUENCY</th>\n",
              "      <th>CASH_ADVANCE_FREQUENCY</th>\n",
              "      <th>CASH_ADVANCE_TRX</th>\n",
              "      <th>PURCHASES_TRX</th>\n",
              "      <th>CREDIT_LIMIT</th>\n",
              "      <th>PAYMENTS</th>\n",
              "      <th>MINIMUM_PAYMENTS</th>\n",
              "      <th>PRC_FULL_PAYMENT</th>\n",
              "      <th>TENURE</th>\n",
              "    </tr>\n",
              "  </thead>\n",
              "  <tbody>\n",
              "    <tr>\n",
              "      <th>count</th>\n",
              "      <td>8950.000000</td>\n",
              "      <td>8950.000000</td>\n",
              "      <td>8950.000000</td>\n",
              "      <td>8950.000000</td>\n",
              "      <td>8950.000000</td>\n",
              "      <td>8950.000000</td>\n",
              "      <td>8950.000000</td>\n",
              "      <td>8950.000000</td>\n",
              "      <td>8950.000000</td>\n",
              "      <td>8950.000000</td>\n",
              "      <td>8950.000000</td>\n",
              "      <td>8950.000000</td>\n",
              "      <td>8949.000000</td>\n",
              "      <td>8950.000000</td>\n",
              "      <td>8637.000000</td>\n",
              "      <td>8950.000000</td>\n",
              "      <td>8950.000000</td>\n",
              "    </tr>\n",
              "    <tr>\n",
              "      <th>mean</th>\n",
              "      <td>1564.474828</td>\n",
              "      <td>0.877271</td>\n",
              "      <td>1003.204834</td>\n",
              "      <td>592.437371</td>\n",
              "      <td>411.067645</td>\n",
              "      <td>978.871112</td>\n",
              "      <td>0.490351</td>\n",
              "      <td>0.202458</td>\n",
              "      <td>0.364437</td>\n",
              "      <td>0.135144</td>\n",
              "      <td>3.248827</td>\n",
              "      <td>14.709832</td>\n",
              "      <td>4494.449450</td>\n",
              "      <td>1733.143852</td>\n",
              "      <td>864.206542</td>\n",
              "      <td>0.153715</td>\n",
              "      <td>11.517318</td>\n",
              "    </tr>\n",
              "    <tr>\n",
              "      <th>std</th>\n",
              "      <td>2081.531879</td>\n",
              "      <td>0.236904</td>\n",
              "      <td>2136.634782</td>\n",
              "      <td>1659.887917</td>\n",
              "      <td>904.338115</td>\n",
              "      <td>2097.163877</td>\n",
              "      <td>0.401371</td>\n",
              "      <td>0.298336</td>\n",
              "      <td>0.397448</td>\n",
              "      <td>0.200121</td>\n",
              "      <td>6.824647</td>\n",
              "      <td>24.857649</td>\n",
              "      <td>3638.815725</td>\n",
              "      <td>2895.063757</td>\n",
              "      <td>2372.446607</td>\n",
              "      <td>0.292499</td>\n",
              "      <td>1.338331</td>\n",
              "    </tr>\n",
              "    <tr>\n",
              "      <th>min</th>\n",
              "      <td>0.000000</td>\n",
              "      <td>0.000000</td>\n",
              "      <td>0.000000</td>\n",
              "      <td>0.000000</td>\n",
              "      <td>0.000000</td>\n",
              "      <td>0.000000</td>\n",
              "      <td>0.000000</td>\n",
              "      <td>0.000000</td>\n",
              "      <td>0.000000</td>\n",
              "      <td>0.000000</td>\n",
              "      <td>0.000000</td>\n",
              "      <td>0.000000</td>\n",
              "      <td>50.000000</td>\n",
              "      <td>0.000000</td>\n",
              "      <td>0.019163</td>\n",
              "      <td>0.000000</td>\n",
              "      <td>6.000000</td>\n",
              "    </tr>\n",
              "    <tr>\n",
              "      <th>25%</th>\n",
              "      <td>128.281915</td>\n",
              "      <td>0.888889</td>\n",
              "      <td>39.635000</td>\n",
              "      <td>0.000000</td>\n",
              "      <td>0.000000</td>\n",
              "      <td>0.000000</td>\n",
              "      <td>0.083333</td>\n",
              "      <td>0.000000</td>\n",
              "      <td>0.000000</td>\n",
              "      <td>0.000000</td>\n",
              "      <td>0.000000</td>\n",
              "      <td>1.000000</td>\n",
              "      <td>1600.000000</td>\n",
              "      <td>383.276166</td>\n",
              "      <td>169.123707</td>\n",
              "      <td>0.000000</td>\n",
              "      <td>12.000000</td>\n",
              "    </tr>\n",
              "    <tr>\n",
              "      <th>50%</th>\n",
              "      <td>873.385231</td>\n",
              "      <td>1.000000</td>\n",
              "      <td>361.280000</td>\n",
              "      <td>38.000000</td>\n",
              "      <td>89.000000</td>\n",
              "      <td>0.000000</td>\n",
              "      <td>0.500000</td>\n",
              "      <td>0.083333</td>\n",
              "      <td>0.166667</td>\n",
              "      <td>0.000000</td>\n",
              "      <td>0.000000</td>\n",
              "      <td>7.000000</td>\n",
              "      <td>3000.000000</td>\n",
              "      <td>856.901546</td>\n",
              "      <td>312.343947</td>\n",
              "      <td>0.000000</td>\n",
              "      <td>12.000000</td>\n",
              "    </tr>\n",
              "    <tr>\n",
              "      <th>75%</th>\n",
              "      <td>2054.140036</td>\n",
              "      <td>1.000000</td>\n",
              "      <td>1110.130000</td>\n",
              "      <td>577.405000</td>\n",
              "      <td>468.637500</td>\n",
              "      <td>1113.821139</td>\n",
              "      <td>0.916667</td>\n",
              "      <td>0.300000</td>\n",
              "      <td>0.750000</td>\n",
              "      <td>0.222222</td>\n",
              "      <td>4.000000</td>\n",
              "      <td>17.000000</td>\n",
              "      <td>6500.000000</td>\n",
              "      <td>1901.134317</td>\n",
              "      <td>825.485459</td>\n",
              "      <td>0.142857</td>\n",
              "      <td>12.000000</td>\n",
              "    </tr>\n",
              "    <tr>\n",
              "      <th>max</th>\n",
              "      <td>19043.138560</td>\n",
              "      <td>1.000000</td>\n",
              "      <td>49039.570000</td>\n",
              "      <td>40761.250000</td>\n",
              "      <td>22500.000000</td>\n",
              "      <td>47137.211760</td>\n",
              "      <td>1.000000</td>\n",
              "      <td>1.000000</td>\n",
              "      <td>1.000000</td>\n",
              "      <td>1.500000</td>\n",
              "      <td>123.000000</td>\n",
              "      <td>358.000000</td>\n",
              "      <td>30000.000000</td>\n",
              "      <td>50721.483360</td>\n",
              "      <td>76406.207520</td>\n",
              "      <td>1.000000</td>\n",
              "      <td>12.000000</td>\n",
              "    </tr>\n",
              "  </tbody>\n",
              "</table>\n",
              "</div>"
            ],
            "text/plain": [
              "            BALANCE  BALANCE_FREQUENCY  ...  PRC_FULL_PAYMENT       TENURE\n",
              "count   8950.000000        8950.000000  ...       8950.000000  8950.000000\n",
              "mean    1564.474828           0.877271  ...          0.153715    11.517318\n",
              "std     2081.531879           0.236904  ...          0.292499     1.338331\n",
              "min        0.000000           0.000000  ...          0.000000     6.000000\n",
              "25%      128.281915           0.888889  ...          0.000000    12.000000\n",
              "50%      873.385231           1.000000  ...          0.000000    12.000000\n",
              "75%     2054.140036           1.000000  ...          0.142857    12.000000\n",
              "max    19043.138560           1.000000  ...          1.000000    12.000000\n",
              "\n",
              "[8 rows x 17 columns]"
            ]
          },
          "metadata": {},
          "execution_count": 3
        }
      ]
    },
    {
      "cell_type": "markdown",
      "metadata": {
        "id": "ZafaZQe05QzS"
      },
      "source": [
        "check the missing values :"
      ]
    },
    {
      "cell_type": "code",
      "metadata": {
        "colab": {
          "base_uri": "https://localhost:8080/"
        },
        "id": "-iYEwKmQ5K61",
        "outputId": "f4658dcf-a312-4bad-fd6b-ff680eac7d24"
      },
      "source": [
        "cc_general.isnull().sum()"
      ],
      "execution_count": 4,
      "outputs": [
        {
          "output_type": "execute_result",
          "data": {
            "text/plain": [
              "CUST_ID                               0\n",
              "BALANCE                               0\n",
              "BALANCE_FREQUENCY                     0\n",
              "PURCHASES                             0\n",
              "ONEOFF_PURCHASES                      0\n",
              "INSTALLMENTS_PURCHASES                0\n",
              "CASH_ADVANCE                          0\n",
              "PURCHASES_FREQUENCY                   0\n",
              "ONEOFF_PURCHASES_FREQUENCY            0\n",
              "PURCHASES_INSTALLMENTS_FREQUENCY      0\n",
              "CASH_ADVANCE_FREQUENCY                0\n",
              "CASH_ADVANCE_TRX                      0\n",
              "PURCHASES_TRX                         0\n",
              "CREDIT_LIMIT                          1\n",
              "PAYMENTS                              0\n",
              "MINIMUM_PAYMENTS                    313\n",
              "PRC_FULL_PAYMENT                      0\n",
              "TENURE                                0\n",
              "dtype: int64"
            ]
          },
          "metadata": {},
          "execution_count": 4
        }
      ]
    },
    {
      "cell_type": "markdown",
      "metadata": {
        "id": "3MaGEA0r5YQI"
      },
      "source": [
        "Check for outliers:"
      ]
    },
    {
      "cell_type": "code",
      "metadata": {
        "id": "tng91SyS5Veb"
      },
      "source": [
        "def outlier_percent(data):\n",
        "    Q1 = data.quantile(0.25)\n",
        "    Q3 = data.quantile(0.75)\n",
        "    IQR = Q3 - Q1\n",
        "    minimum = Q1 - (1.5 * IQR)\n",
        "    maximum = Q3 + (1.5 * IQR)\n",
        "    num_outliers =  np.sum((data < minimum) |(data > maximum))\n",
        "    num_total = data.count()\n",
        "    return (num_outliers/num_total)*100"
      ],
      "execution_count": 5,
      "outputs": []
    },
    {
      "cell_type": "code",
      "metadata": {
        "colab": {
          "base_uri": "https://localhost:8080/"
        },
        "id": "F2Uoj8Zb5cJX",
        "outputId": "f9e9b15c-80c3-490b-9945-cc4e6e8cfd87"
      },
      "source": [
        "non_categorical_data = cc_general.drop(['CUST_ID'], axis=1)\n",
        "for column in non_categorical_data.columns:\n",
        "    data = non_categorical_data[column]\n",
        "    percent = str(round(outlier_percent(data), 2))\n",
        "    print(f'Outliers in \"{column}\": {percent}%')"
      ],
      "execution_count": 6,
      "outputs": [
        {
          "output_type": "stream",
          "name": "stdout",
          "text": [
            "Outliers in \"BALANCE\": 7.77%\n",
            "Outliers in \"BALANCE_FREQUENCY\": 16.68%\n",
            "Outliers in \"PURCHASES\": 9.03%\n",
            "Outliers in \"ONEOFF_PURCHASES\": 11.32%\n",
            "Outliers in \"INSTALLMENTS_PURCHASES\": 9.69%\n",
            "Outliers in \"CASH_ADVANCE\": 11.51%\n",
            "Outliers in \"PURCHASES_FREQUENCY\": 0.0%\n",
            "Outliers in \"ONEOFF_PURCHASES_FREQUENCY\": 8.74%\n",
            "Outliers in \"PURCHASES_INSTALLMENTS_FREQUENCY\": 0.0%\n",
            "Outliers in \"CASH_ADVANCE_FREQUENCY\": 5.87%\n",
            "Outliers in \"CASH_ADVANCE_TRX\": 8.98%\n",
            "Outliers in \"PURCHASES_TRX\": 8.56%\n",
            "Outliers in \"CREDIT_LIMIT\": 2.77%\n",
            "Outliers in \"PAYMENTS\": 9.03%\n",
            "Outliers in \"MINIMUM_PAYMENTS\": 9.74%\n",
            "Outliers in \"PRC_FULL_PAYMENT\": 16.47%\n",
            "Outliers in \"TENURE\": 15.26%\n"
          ]
        }
      ]
    },
    {
      "cell_type": "markdown",
      "metadata": {
        "id": "_Ml0mBwR5htz"
      },
      "source": [
        "# Preprocessing: "
      ]
    },
    {
      "cell_type": "markdown",
      "metadata": {
        "id": "Hk1cvAqm5lOI"
      },
      "source": [
        "remove the outliers:"
      ]
    },
    {
      "cell_type": "code",
      "metadata": {
        "colab": {
          "base_uri": "https://localhost:8080/"
        },
        "id": "_ByNKxIg5d-A",
        "outputId": "3cc6032b-7802-4593-c116-c64a267441dd"
      },
      "source": [
        "for column in non_categorical_data.columns:\n",
        "    data = non_categorical_data[column]\n",
        "    \n",
        "    Q1 = data.quantile(0.25)\n",
        "    Q3 = data.quantile(0.75)\n",
        "    IQR = Q3 - Q1\n",
        "    minimum = Q1 - (1.5 * IQR)\n",
        "    maximum = Q3 + (1.5 * IQR)\n",
        " \n",
        "    outliers = ((data < minimum) |(data > maximum))\n",
        "    non_categorical_data[column].loc[outliers] = np.nan\n",
        "    \n",
        "non_categorical_data.isnull().sum()"
      ],
      "execution_count": 7,
      "outputs": [
        {
          "output_type": "execute_result",
          "data": {
            "text/plain": [
              "BALANCE                              695\n",
              "BALANCE_FREQUENCY                   1493\n",
              "PURCHASES                            808\n",
              "ONEOFF_PURCHASES                    1013\n",
              "INSTALLMENTS_PURCHASES               867\n",
              "CASH_ADVANCE                        1030\n",
              "PURCHASES_FREQUENCY                    0\n",
              "ONEOFF_PURCHASES_FREQUENCY           782\n",
              "PURCHASES_INSTALLMENTS_FREQUENCY       0\n",
              "CASH_ADVANCE_FREQUENCY               525\n",
              "CASH_ADVANCE_TRX                     804\n",
              "PURCHASES_TRX                        766\n",
              "CREDIT_LIMIT                         249\n",
              "PAYMENTS                             808\n",
              "MINIMUM_PAYMENTS                    1154\n",
              "PRC_FULL_PAYMENT                    1474\n",
              "TENURE                              1366\n",
              "dtype: int64"
            ]
          },
          "metadata": {},
          "execution_count": 7
        }
      ]
    },
    {
      "cell_type": "markdown",
      "metadata": {
        "id": "BS6tlkRI5zvx"
      },
      "source": [
        "# Imputing the missing data"
      ]
    },
    {
      "cell_type": "markdown",
      "metadata": {
        "id": "oyzTrOpA51py"
      },
      "source": [
        "I use KNN imputer"
      ]
    },
    {
      "cell_type": "code",
      "metadata": {
        "colab": {
          "base_uri": "https://localhost:8080/"
        },
        "id": "2Q6gt0qG5qeh",
        "outputId": "e5b72058-0a06-48e4-8961-dd0abfa3ed7d"
      },
      "source": [
        "imputer = KNNImputer()\n",
        "imp_data = pd.DataFrame(imputer.fit_transform(non_categorical_data), columns=non_categorical_data.columns)\n",
        "imp_data.isnull().sum()"
      ],
      "execution_count": 8,
      "outputs": [
        {
          "output_type": "execute_result",
          "data": {
            "text/plain": [
              "BALANCE                             0\n",
              "BALANCE_FREQUENCY                   0\n",
              "PURCHASES                           0\n",
              "ONEOFF_PURCHASES                    0\n",
              "INSTALLMENTS_PURCHASES              0\n",
              "CASH_ADVANCE                        0\n",
              "PURCHASES_FREQUENCY                 0\n",
              "ONEOFF_PURCHASES_FREQUENCY          0\n",
              "PURCHASES_INSTALLMENTS_FREQUENCY    0\n",
              "CASH_ADVANCE_FREQUENCY              0\n",
              "CASH_ADVANCE_TRX                    0\n",
              "PURCHASES_TRX                       0\n",
              "CREDIT_LIMIT                        0\n",
              "PAYMENTS                            0\n",
              "MINIMUM_PAYMENTS                    0\n",
              "PRC_FULL_PAYMENT                    0\n",
              "TENURE                              0\n",
              "dtype: int64"
            ]
          },
          "metadata": {},
          "execution_count": 8
        }
      ]
    },
    {
      "cell_type": "markdown",
      "metadata": {
        "id": "8Za1XPs-6Diq"
      },
      "source": [
        "# Scale the Data:"
      ]
    },
    {
      "cell_type": "markdown",
      "metadata": {
        "id": "HHPFiPiF6H25"
      },
      "source": [
        "I use StandardScaler"
      ]
    },
    {
      "cell_type": "code",
      "metadata": {
        "colab": {
          "base_uri": "https://localhost:8080/",
          "height": 390
        },
        "id": "pl5oFewg580E",
        "outputId": "1c009ada-c108-4770-a94d-ac6cf50006f1"
      },
      "source": [
        "std_imp_data = pd.DataFrame(StandardScaler().fit_transform(imp_data), columns=imp_data.columns)\n",
        "std_imp_data.describe()"
      ],
      "execution_count": 9,
      "outputs": [
        {
          "output_type": "execute_result",
          "data": {
            "text/html": [
              "<div>\n",
              "<style scoped>\n",
              "    .dataframe tbody tr th:only-of-type {\n",
              "        vertical-align: middle;\n",
              "    }\n",
              "\n",
              "    .dataframe tbody tr th {\n",
              "        vertical-align: top;\n",
              "    }\n",
              "\n",
              "    .dataframe thead th {\n",
              "        text-align: right;\n",
              "    }\n",
              "</style>\n",
              "<table border=\"1\" class=\"dataframe\">\n",
              "  <thead>\n",
              "    <tr style=\"text-align: right;\">\n",
              "      <th></th>\n",
              "      <th>BALANCE</th>\n",
              "      <th>BALANCE_FREQUENCY</th>\n",
              "      <th>PURCHASES</th>\n",
              "      <th>ONEOFF_PURCHASES</th>\n",
              "      <th>INSTALLMENTS_PURCHASES</th>\n",
              "      <th>CASH_ADVANCE</th>\n",
              "      <th>PURCHASES_FREQUENCY</th>\n",
              "      <th>ONEOFF_PURCHASES_FREQUENCY</th>\n",
              "      <th>PURCHASES_INSTALLMENTS_FREQUENCY</th>\n",
              "      <th>CASH_ADVANCE_FREQUENCY</th>\n",
              "      <th>CASH_ADVANCE_TRX</th>\n",
              "      <th>PURCHASES_TRX</th>\n",
              "      <th>CREDIT_LIMIT</th>\n",
              "      <th>PAYMENTS</th>\n",
              "      <th>MINIMUM_PAYMENTS</th>\n",
              "      <th>PRC_FULL_PAYMENT</th>\n",
              "      <th>TENURE</th>\n",
              "    </tr>\n",
              "  </thead>\n",
              "  <tbody>\n",
              "    <tr>\n",
              "      <th>count</th>\n",
              "      <td>8.950000e+03</td>\n",
              "      <td>8.950000e+03</td>\n",
              "      <td>8.950000e+03</td>\n",
              "      <td>8.950000e+03</td>\n",
              "      <td>8.950000e+03</td>\n",
              "      <td>8.950000e+03</td>\n",
              "      <td>8.950000e+03</td>\n",
              "      <td>8.950000e+03</td>\n",
              "      <td>8.950000e+03</td>\n",
              "      <td>8.950000e+03</td>\n",
              "      <td>8.950000e+03</td>\n",
              "      <td>8.950000e+03</td>\n",
              "      <td>8.950000e+03</td>\n",
              "      <td>8.950000e+03</td>\n",
              "      <td>8.950000e+03</td>\n",
              "      <td>8.950000e+03</td>\n",
              "      <td>8950.0</td>\n",
              "    </tr>\n",
              "    <tr>\n",
              "      <th>mean</th>\n",
              "      <td>1.459292e-16</td>\n",
              "      <td>3.641780e-15</td>\n",
              "      <td>-3.845664e-15</td>\n",
              "      <td>8.330072e-15</td>\n",
              "      <td>9.068103e-16</td>\n",
              "      <td>8.933760e-16</td>\n",
              "      <td>-3.716084e-16</td>\n",
              "      <td>-7.758809e-15</td>\n",
              "      <td>2.353921e-16</td>\n",
              "      <td>-9.233334e-16</td>\n",
              "      <td>-7.427330e-17</td>\n",
              "      <td>9.962980e-16</td>\n",
              "      <td>4.909878e-15</td>\n",
              "      <td>4.842805e-16</td>\n",
              "      <td>-2.008573e-16</td>\n",
              "      <td>-2.921344e-15</td>\n",
              "      <td>0.0</td>\n",
              "    </tr>\n",
              "    <tr>\n",
              "      <th>std</th>\n",
              "      <td>1.000056e+00</td>\n",
              "      <td>1.000056e+00</td>\n",
              "      <td>1.000056e+00</td>\n",
              "      <td>1.000056e+00</td>\n",
              "      <td>1.000056e+00</td>\n",
              "      <td>1.000056e+00</td>\n",
              "      <td>1.000056e+00</td>\n",
              "      <td>1.000056e+00</td>\n",
              "      <td>1.000056e+00</td>\n",
              "      <td>1.000056e+00</td>\n",
              "      <td>1.000056e+00</td>\n",
              "      <td>1.000056e+00</td>\n",
              "      <td>1.000056e+00</td>\n",
              "      <td>1.000056e+00</td>\n",
              "      <td>1.000056e+00</td>\n",
              "      <td>1.000056e+00</td>\n",
              "      <td>0.0</td>\n",
              "    </tr>\n",
              "    <tr>\n",
              "      <th>min</th>\n",
              "      <td>-9.711973e-01</td>\n",
              "      <td>-4.155613e+00</td>\n",
              "      <td>-9.108875e-01</td>\n",
              "      <td>-6.679045e-01</td>\n",
              "      <td>-7.876755e-01</td>\n",
              "      <td>-6.489418e-01</td>\n",
              "      <td>-1.221758e+00</td>\n",
              "      <td>-7.446281e-01</td>\n",
              "      <td>-9.169952e-01</td>\n",
              "      <td>-7.472686e-01</td>\n",
              "      <td>-6.819606e-01</td>\n",
              "      <td>-9.664084e-01</td>\n",
              "      <td>-1.365191e+00</td>\n",
              "      <td>-1.191542e+00</td>\n",
              "      <td>-1.158882e+00</td>\n",
              "      <td>-4.495377e-01</td>\n",
              "      <td>0.0</td>\n",
              "    </tr>\n",
              "    <tr>\n",
              "      <th>25%</th>\n",
              "      <td>-8.704482e-01</td>\n",
              "      <td>3.667368e-01</td>\n",
              "      <td>-8.520982e-01</td>\n",
              "      <td>-6.679045e-01</td>\n",
              "      <td>-7.876755e-01</td>\n",
              "      <td>-6.489418e-01</td>\n",
              "      <td>-1.014125e+00</td>\n",
              "      <td>-7.446281e-01</td>\n",
              "      <td>-9.169952e-01</td>\n",
              "      <td>-7.472686e-01</td>\n",
              "      <td>-6.819606e-01</td>\n",
              "      <td>-8.736091e-01</td>\n",
              "      <td>-8.652204e-01</td>\n",
              "      <td>-8.088997e-01</td>\n",
              "      <td>-7.803523e-01</td>\n",
              "      <td>-4.495377e-01</td>\n",
              "      <td>0.0</td>\n",
              "    </tr>\n",
              "    <tr>\n",
              "      <th>50%</th>\n",
              "      <td>-2.883274e-01</td>\n",
              "      <td>3.667368e-01</td>\n",
              "      <td>-3.757635e-01</td>\n",
              "      <td>-5.868463e-01</td>\n",
              "      <td>-4.754304e-01</td>\n",
              "      <td>-6.489418e-01</td>\n",
              "      <td>2.404259e-02</td>\n",
              "      <td>-3.780223e-01</td>\n",
              "      <td>-4.976286e-01</td>\n",
              "      <td>-7.472686e-01</td>\n",
              "      <td>-6.819606e-01</td>\n",
              "      <td>-3.168136e-01</td>\n",
              "      <td>-4.136338e-01</td>\n",
              "      <td>-3.375007e-01</td>\n",
              "      <td>-4.237788e-01</td>\n",
              "      <td>-4.495377e-01</td>\n",
              "      <td>0.0</td>\n",
              "    </tr>\n",
              "    <tr>\n",
              "      <th>75%</th>\n",
              "      <td>5.646491e-01</td>\n",
              "      <td>3.667368e-01</td>\n",
              "      <td>6.126365e-01</td>\n",
              "      <td>3.671317e-01</td>\n",
              "      <td>5.319986e-01</td>\n",
              "      <td>5.416827e-01</td>\n",
              "      <td>1.062211e+00</td>\n",
              "      <td>4.485112e-01</td>\n",
              "      <td>9.701506e-01</td>\n",
              "      <td>4.368733e-01</td>\n",
              "      <td>4.783950e-01</td>\n",
              "      <td>6.111790e-01</td>\n",
              "      <td>6.508204e-01</td>\n",
              "      <td>6.738027e-01</td>\n",
              "      <td>6.386496e-01</td>\n",
              "      <td>-2.118108e-01</td>\n",
              "      <td>0.0</td>\n",
              "    </tr>\n",
              "    <tr>\n",
              "      <th>max</th>\n",
              "      <td>2.911266e+00</td>\n",
              "      <td>3.667368e-01</td>\n",
              "      <td>3.120231e+00</td>\n",
              "      <td>3.512681e+00</td>\n",
              "      <td>3.318839e+00</td>\n",
              "      <td>3.337571e+00</td>\n",
              "      <td>1.269843e+00</td>\n",
              "      <td>2.554838e+00</td>\n",
              "      <td>1.599199e+00</td>\n",
              "      <td>3.128100e+00</td>\n",
              "      <td>3.185891e+00</td>\n",
              "      <td>2.838361e+00</td>\n",
              "      <td>3.005522e+00</td>\n",
              "      <td>2.978873e+00</td>\n",
              "      <td>2.852750e+00</td>\n",
              "      <td>4.305014e+00</td>\n",
              "      <td>0.0</td>\n",
              "    </tr>\n",
              "  </tbody>\n",
              "</table>\n",
              "</div>"
            ],
            "text/plain": [
              "            BALANCE  BALANCE_FREQUENCY  ...  PRC_FULL_PAYMENT  TENURE\n",
              "count  8.950000e+03       8.950000e+03  ...      8.950000e+03  8950.0\n",
              "mean   1.459292e-16       3.641780e-15  ...     -2.921344e-15     0.0\n",
              "std    1.000056e+00       1.000056e+00  ...      1.000056e+00     0.0\n",
              "min   -9.711973e-01      -4.155613e+00  ...     -4.495377e-01     0.0\n",
              "25%   -8.704482e-01       3.667368e-01  ...     -4.495377e-01     0.0\n",
              "50%   -2.883274e-01       3.667368e-01  ...     -4.495377e-01     0.0\n",
              "75%    5.646491e-01       3.667368e-01  ...     -2.118108e-01     0.0\n",
              "max    2.911266e+00       3.667368e-01  ...      4.305014e+00     0.0\n",
              "\n",
              "[8 rows x 17 columns]"
            ]
          },
          "metadata": {},
          "execution_count": 9
        }
      ]
    },
    {
      "cell_type": "markdown",
      "metadata": {
        "id": "StIvBbp96NtJ"
      },
      "source": [
        "## Dimention Reduction using PCA"
      ]
    },
    {
      "cell_type": "code",
      "metadata": {
        "colab": {
          "base_uri": "https://localhost:8080/",
          "height": 964
        },
        "id": "Ju5OIZO16Bzn",
        "outputId": "a723a1e2-b198-4329-dbc1-0d35f3021a9b"
      },
      "source": [
        "pca = PCA(n_components=2, random_state=42)\n",
        "pca.fit(std_imp_data)\n",
        "PC_names = ['PC'+str(x) for x in range(1,len(pca.components_)+1)]\n",
        "\n",
        "\n",
        "pca_data = pd.DataFrame(pca.transform(std_imp_data), columns=PC_names)\n",
        "\n",
        "\n",
        "fig, ax = plt.subplots(figsize=(24, 16))\n",
        "plt.imshow(pca.components_.T,\n",
        "           cmap=\"Spectral\",\n",
        "           vmin=-1,\n",
        "           vmax=1,\n",
        "          )\n",
        "plt.yticks(range(len(std_imp_data.columns)), std_imp_data.columns)\n",
        "plt.xticks(range(len(pca_data.columns)), pca_data.columns)\n",
        "plt.xlabel(\"Principal Component\")\n",
        "plt.ylabel(\"Contribution\")\n",
        "plt.title(\"Contribution of Features to Components\")\n",
        "plt.colorbar()"
      ],
      "execution_count": 10,
      "outputs": [
        {
          "output_type": "execute_result",
          "data": {
            "text/plain": [
              "<matplotlib.colorbar.Colorbar at 0x7f520f0510d0>"
            ]
          },
          "metadata": {},
          "execution_count": 10
        },
        {
          "output_type": "display_data",
          "data": {
            "image/png": "[encoded data removed]",
            "text/plain": [
              "<Figure size 1728x1152 with 2 Axes>"
            ]
          },
          "metadata": {
            "needs_background": "light"
          }
        }
      ]
    },
    {
      "cell_type": "markdown",
      "metadata": {
        "id": "qa-WF4l3Ai80"
      },
      "source": [
        "# Number of clusters? "
      ]
    },
    {
      "cell_type": "markdown",
      "metadata": {
        "id": "5VTEwiYkAurD"
      },
      "source": [
        "### 1) Optimize n_clusters with Elbow:"
      ]
    },
    {
      "cell_type": "code",
      "metadata": {
        "id": "WzXrsFrmApPj"
      },
      "source": [
        "wcss = []\n",
        "\n",
        "for i in range(1, 11): \n",
        "    kmeans = KMeans(n_clusters=i, init = 'k-means++', max_iter=300,\n",
        "                    n_init=10,\n",
        "                    random_state=0)\n",
        "    kmeans.fit(pca_data)\n",
        "    wcss.append(kmeans.inertia_)"
      ],
      "execution_count": 11,
      "outputs": []
    },
    {
      "cell_type": "code",
      "metadata": {
        "colab": {
          "base_uri": "https://localhost:8080/",
          "height": 225
        },
        "id": "RxTAVvGgGrIs",
        "outputId": "fff91680-6146-4574-dbe5-340c1c88cba8"
      },
      "source": [
        "fig = plt.figure(figsize = (10,3))\n",
        "plt.plot(range(1,11), wcss,\n",
        "         linewidth=4, markersize=12, marker='o', color = 'red')\n",
        "plt.xticks(np.arange(11))\n",
        "plt.xlabel(\"Number of clusters\")\n",
        "plt.ylabel(\"WCSS\")\n",
        "plt.show()"
      ],
      "execution_count": 12,
      "outputs": [
        {
          "output_type": "display_data",
          "data": {
            "image/png": "[encoded data removed]",
            "text/plain": [
              "<Figure size 720x216 with 1 Axes>"
            ]
          },
          "metadata": {
            "needs_background": "light"
          }
        }
      ]
    },
    {
      "cell_type": "markdown",
      "metadata": {
        "id": "hI_kXaniHRs2"
      },
      "source": [
        "Here n_clusters is 3!"
      ]
    },
    {
      "cell_type": "markdown",
      "metadata": {
        "id": "IjjVRbjEKEUt"
      },
      "source": [
        "### Optimize n_clusters with Silhouette_score :"
      ]
    },
    {
      "cell_type": "code",
      "metadata": {
        "id": "HTcrUPZMKLmQ"
      },
      "source": [
        "def visualize_silhouette(cluster_lists, X_features): \n",
        "\n",
        "    n_cols = len(cluster_lists)\n",
        "    fig, axs = plt.subplots(figsize=(4*n_cols, 4), nrows=1, ncols=n_cols)\n",
        "\n",
        "    for ind, n_cluster in enumerate(cluster_lists):\n",
        "        clusterer = KMeans(n_clusters = n_cluster, max_iter=500, random_state=0, init = 'k-means++')\n",
        "        cluster_labels = clusterer.fit_predict(X_features)\n",
        "\n",
        "        sil_avg = silhouette_score(X_features, cluster_labels)\n",
        "        sil_values = silhouette_samples(X_features, cluster_labels)\n",
        "\n",
        "        y_lower = 10\n",
        "        axs[ind].set_title('Number of Cluster : '+ str(n_cluster)+'\\n' \\\n",
        "                          'Silhouette Score :' + str(round(sil_avg,3)) )\n",
        "        axs[ind].set_xlabel(\"The silhouette coefficient values\")\n",
        "        axs[ind].set_ylabel(\"Cluster label\")\n",
        "        axs[ind].set_xlim([-0.1, 1])\n",
        "        axs[ind].set_ylim([0, len(X_features) + (n_cluster + 1) * 10])\n",
        "        axs[ind].set_yticks([])  # Clear the yaxis labels / ticks\n",
        "        axs[ind].set_xticks([0, 0.2, 0.4, 0.6, 0.8, 1])\n",
        "   \n",
        "        for i in range(n_cluster):\n",
        "            ith_cluster_sil_values = sil_values[cluster_labels==i]\n",
        "            ith_cluster_sil_values.sort()\n",
        "\n",
        "            size_cluster_i = ith_cluster_sil_values.shape[0]\n",
        "            y_upper = y_lower + size_cluster_i\n",
        "\n",
        "            color = cm.nipy_spectral(float(i) / n_cluster)\n",
        "            axs[ind].fill_betweenx(np.arange(y_lower, y_upper), 0, ith_cluster_sil_values, \\\n",
        "                                facecolor=color, edgecolor=color, alpha=0.7)\n",
        "            axs[ind].text(-0.05, y_lower + 0.5 * size_cluster_i, str(i))\n",
        "            y_lower = y_upper + 10\n",
        "\n",
        "        axs[ind].axvline(x=sil_avg, color=\"red\", linestyle=\"--\")"
      ],
      "execution_count": 13,
      "outputs": []
    },
    {
      "cell_type": "code",
      "metadata": {
        "colab": {
          "base_uri": "https://localhost:8080/",
          "height": 194
        },
        "id": "HCzNbnReK4if",
        "outputId": "7be50f35-1c0c-4ab0-f549-a2a7532a6faf"
      },
      "source": [
        "visualize_silhouette([2, 3, 4, 5, 6, 7, 8, 9, 10], pca_data)"
      ],
      "execution_count": 14,
      "outputs": [
        {
          "output_type": "display_data",
          "data": {
            "image/png": "[encoded data removed]",
            "text/plain": [
              "<Figure size 2592x288 with 9 Axes>"
            ]
          },
          "metadata": {
            "needs_background": "light"
          }
        }
      ]
    },
    {
      "cell_type": "markdown",
      "metadata": {
        "id": "MBU4yqbk6Yji"
      },
      "source": [
        "# Train the Model: "
      ]
    },
    {
      "cell_type": "markdown",
      "metadata": {
        "id": "ueGjzDosLtWt"
      },
      "source": [
        "So, I set n_clusters = 3."
      ]
    },
    {
      "cell_type": "code",
      "metadata": {
        "id": "QWL_l8oZ6VPB"
      },
      "source": [
        "model = Birch(threshold=1.7, n_clusters=3)\n",
        "y_birch = model.fit_predict(pca_data)"
      ],
      "execution_count": 15,
      "outputs": []
    },
    {
      "cell_type": "code",
      "metadata": {
        "colab": {
          "base_uri": "https://localhost:8080/",
          "height": 294
        },
        "id": "2V7ll6_97AMX",
        "outputId": "87983e0b-9883-4862-9819-c7645fd3a85b"
      },
      "source": [
        "plt.scatter(pca_data['PC1'], pca_data['PC2'], c=y_birch,\n",
        "            cmap='brg')\n",
        "plt.title('results')\n",
        "plt.xlabel('feature 1')\n",
        "plt.ylabel('feature 2')\n",
        "plt.show()"
      ],
      "execution_count": 16,
      "outputs": [
        {
          "output_type": "display_data",
          "data": {
            "image/png": "[encoded data removed]",
            "text/plain": [
              "<Figure size 432x288 with 1 Axes>"
            ]
          },
          "metadata": {
            "needs_background": "light"
          }
        }
      ]
    },
    {
      "cell_type": "code",
      "metadata": {
        "id": "7NLMwLSf9dgw"
      },
      "source": [
        ""
      ],
      "execution_count": 16,
      "outputs": []
    }
  ]
}